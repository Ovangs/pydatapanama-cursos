{
  "cells": [
    {
      "cell_type": "markdown",
      "metadata": {},
      "source": [
        "# Módulo 1: Introducción y Preparación del Entorno\n",
        "\n",
        "En este módulo aprenderás:\n",
        "- El flujo de trabajo en proyectos de análisis de datos\n",
        "- Cómo organizar un proyecto y crear entornos virtuales\n",
        "- Cómo cargar y explorar datos con Pandas\n",
        "\n",
        "La presentación de la primera sesión: [Descargar](https://docs.google.com/presentation/d/1PuFjT6oM-FlzIZpC7pY2WG_GWTV0mowa/edit?slide=id.p1#slide=id.p1)"
      ]
    },
    {
      "cell_type": "markdown",
      "metadata": {},
      "source": [
        "## 1. Flujo de trabajo en ciencia de datos\n",
        "\n",
        "Un flujo típico incluye:\n",
        "1. Definir el problema o pregunta de negocio\n",
        "2. Recolectar los datos\n",
        "3. Limpiar y transformar los datos\n",
        "4. Explorar y visualizar\n",
        "5. Modelar (opcional)\n",
        "6. Comunicar resultados\n",
        "\n",
        "Este curso se enfoca en los pasos 1 a 4."
      ]
    },
    {
      "cell_type": "markdown",
      "metadata": {},
      "source": [
        "## 2. Estructura de un proyecto profesional\n",
        "\n",
        "Una estructura recomendada puede ser:\n",
        "```\n",
        "project-name/\n",
        "├── assest/           # Imagenes, graficos (generalmente no se sube a github)\n",
        "├── data/             # Datos crudos y procesados\n",
        "├── notebooks/        # Notebooks del proyecto\n",
        "├── utils/            # Funciones auxiliares\n",
        "├── docs/             # Documentación\n",
        "├── README.md         # Descripción general\n",
        "├── environment.yml   # Dependencias usando conda\n",
        "└── requirements.txt  # Dependencias usando pip\n",
        "```"
      ]
    },
    {
      "cell_type": "markdown",
      "metadata": {},
      "source": [
        "## 3. Importar librerías y configurar entorno\n",
        "\n",
        "Importamos las librerías necesarias para trabajar con datos."
      ]
    },
    {
      "cell_type": "code",
      "execution_count": 1,
      "metadata": {},
      "outputs": [],
      "source": [
        "import pandas as pd\n",
        "import numpy as np\n",
        "import matplotlib.pyplot as plt\n",
        "import seaborn as sns\n",
        "from pathlib import Path"
      ]
    },
    {
      "cell_type": "markdown",
      "metadata": {},
      "source": [
        "## 4. Definiendo la ruta de los datos\n",
        "Usaremos un dataset de ejemplo en formato CSV (por ejemplo: `salarios.csv`) ubicado en la carpeta `data/raw/`.\n"
      ]
    },
    {
      "cell_type": "markdown",
      "id": "4ccbfbcc",
      "metadata": {},
      "source": [
        "### Opcion 1) Definir la ruta de los datos"
      ]
    },
    {
      "cell_type": "code",
      "execution_count": 2,
      "id": "ceb0e03c",
      "metadata": {},
      "outputs": [
        {
          "name": "stdout",
          "output_type": "stream",
          "text": [
            "/Users/jasonssdev/Dev/Projects/PyData/pydatapanama-cursos\n"
          ]
        }
      ],
      "source": [
        "!pwd"
      ]
    },
    {
      "cell_type": "code",
      "execution_count": 3,
      "id": "8c1db405",
      "metadata": {},
      "outputs": [],
      "source": [
        "path_salarios = '../data/raw/salarios.csv'"
      ]
    },
    {
      "cell_type": "code",
      "execution_count": 4,
      "id": "7b36cb69",
      "metadata": {},
      "outputs": [
        {
          "data": {
            "text/plain": [
              "'../data/raw/salarios.csv'"
            ]
          },
          "execution_count": 4,
          "metadata": {},
          "output_type": "execute_result"
        }
      ],
      "source": [
        "# revisar la ruta\n",
        "path_salarios"
      ]
    },
    {
      "cell_type": "markdown",
      "id": "02cb9263",
      "metadata": {},
      "source": [
        "### Opcion 2) Definir la ruta de los datos usando buenas practicas y la libreria Path"
      ]
    },
    {
      "cell_type": "code",
      "execution_count": 5,
      "id": "41af6d62",
      "metadata": {},
      "outputs": [
        {
          "name": "stdout",
          "output_type": "stream",
          "text": [
            "/Users/jasonssdev/Dev/Projects/PyData/pydatapanama-cursos\n"
          ]
        }
      ],
      "source": [
        "# revisar la ubicación actual\n",
        "!pwd"
      ]
    },
    {
      "cell_type": "code",
      "execution_count": 6,
      "id": "c93d679b",
      "metadata": {},
      "outputs": [
        {
          "name": "stdout",
          "output_type": "stream",
          "text": [
            "Ruta del archivo salarios: /Users/jasonssdev/Dev/Projects/PyData/pydatapanama-cursos/cursos/analisis_datos/data/raw/salarios.csv\n",
            "existe archivo salarios: True\n"
          ]
        }
      ],
      "source": [
        "#Importar la carpeta de datos raw desde utils.paths\n",
        "from cursos.analisis_datos.utils.paths import DATA_RAW_DIR\n",
        "\n",
        "#definir un path o ruta con Path\n",
        "path_salarios = DATA_RAW_DIR / \"salarios.csv\"\n",
        "path_salarios = str(path_salarios)\n",
        "\n",
        "print(f\"Ruta del archivo salarios: {path_salarios}\")\n",
        "print(f\"existe archivo salarios: {Path(path_salarios).exists()}\")"
      ]
    },
    {
      "cell_type": "markdown",
      "id": "de6c6a76",
      "metadata": {},
      "source": [
        "## 5. Cargar un dataset\n",
        "Usaremos un dataset de ejemplo en formato CSV (por ejemplo: `salarios.csv`) ubicado en la carpeta `data/raw/`.\n"
      ]
    },
    {
      "cell_type": "markdown",
      "id": "7e95cd5f",
      "metadata": {},
      "source": [
        "### Opcion 1) cargando los datos a un dataframe"
      ]
    },
    {
      "cell_type": "code",
      "execution_count": 7,
      "metadata": {},
      "outputs": [
        {
          "data": {
            "application/vnd.microsoft.datawrangler.viewer.v0+json": {
              "columns": [
                {
                  "name": "index",
                  "rawType": "int64",
                  "type": "integer"
                },
                {
                  "name": "nombre",
                  "rawType": "object",
                  "type": "string"
                },
                {
                  "name": "apellido",
                  "rawType": "object",
                  "type": "string"
                },
                {
                  "name": "edad",
                  "rawType": "int64",
                  "type": "integer"
                },
                {
                  "name": "pais",
                  "rawType": "object",
                  "type": "string"
                },
                {
                  "name": "educacion_universitaria",
                  "rawType": "object",
                  "type": "string"
                },
                {
                  "name": "nombre_de_la_empresa",
                  "rawType": "object",
                  "type": "string"
                },
                {
                  "name": "cargo",
                  "rawType": "object",
                  "type": "string"
                },
                {
                  "name": "anos_en_la_empresa",
                  "rawType": "int64",
                  "type": "integer"
                },
                {
                  "name": "sueldo_anual",
                  "rawType": "object",
                  "type": "string"
                },
                {
                  "name": "bono_anual",
                  "rawType": "object",
                  "type": "string"
                }
              ],
              "ref": "0effe6d0-b38f-4e3b-be46-09b8aa9c95d1",
              "rows": [
                [
                  "0",
                  "José",
                  "López",
                  "36",
                  "Chile",
                  "Sí",
                  "Mercado Libre",
                  "Python Developer",
                  "2",
                  "$71841",
                  "€4981"
                ],
                [
                  "1",
                  "Fernanda",
                  "Vargas",
                  "39",
                  "Chile",
                  "Sí",
                  "Amazon",
                  "AI Software Engineer",
                  "2",
                  "$142115",
                  "€1252"
                ],
                [
                  "2",
                  "Fernanda",
                  "Ramírez",
                  "30",
                  "Colombia",
                  "No",
                  "Facebook",
                  "Machine Learning Engineer",
                  "2",
                  "$92278",
                  "€5262"
                ],
                [
                  "3",
                  "José",
                  "Gómez",
                  "35",
                  "Chile",
                  "Sí",
                  "Mercado Libre",
                  "Python Developer",
                  "12",
                  "$97130",
                  "€3671"
                ],
                [
                  "4",
                  "Ana",
                  "Pérez",
                  "32",
                  "Panamá",
                  "No",
                  "Amazon",
                  "Project Manager",
                  "2",
                  "$61413",
                  "€10190"
                ],
                [
                  "5",
                  "Andrea",
                  "Torres",
                  "45",
                  "Costa Rica",
                  "No",
                  "Mercado Libre",
                  "Data Engineer",
                  "8",
                  "$84987",
                  "€5493"
                ],
                [
                  "6",
                  "Andrea",
                  "Vargas",
                  "58",
                  "Chile",
                  "No",
                  "Mercado Libre",
                  "Data Scientist",
                  "9",
                  "$96936",
                  "€4911"
                ],
                [
                  "7",
                  "Pedro",
                  "Herrera",
                  "25",
                  "México",
                  "Sí",
                  "Meta",
                  "AI Software Engineer",
                  "1",
                  "$152001",
                  "€11801"
                ],
                [
                  "8",
                  "Juan",
                  "Torres",
                  "48",
                  "Uruguay",
                  "Sí",
                  "Oracle",
                  "Python Developer",
                  "9",
                  "$97369",
                  "€1365"
                ],
                [
                  "9",
                  "María",
                  "Vargas",
                  "50",
                  "Colombia",
                  "No",
                  "Oracle",
                  "Machine Learning Engineer",
                  "13",
                  "$105123",
                  "€12154"
                ]
              ],
              "shape": {
                "columns": 10,
                "rows": 10
              }
            },
            "text/html": [
              "<div>\n",
              "<style scoped>\n",
              "    .dataframe tbody tr th:only-of-type {\n",
              "        vertical-align: middle;\n",
              "    }\n",
              "\n",
              "    .dataframe tbody tr th {\n",
              "        vertical-align: top;\n",
              "    }\n",
              "\n",
              "    .dataframe thead th {\n",
              "        text-align: right;\n",
              "    }\n",
              "</style>\n",
              "<table border=\"1\" class=\"dataframe\">\n",
              "  <thead>\n",
              "    <tr style=\"text-align: right;\">\n",
              "      <th></th>\n",
              "      <th>nombre</th>\n",
              "      <th>apellido</th>\n",
              "      <th>edad</th>\n",
              "      <th>pais</th>\n",
              "      <th>educacion_universitaria</th>\n",
              "      <th>nombre_de_la_empresa</th>\n",
              "      <th>cargo</th>\n",
              "      <th>anos_en_la_empresa</th>\n",
              "      <th>sueldo_anual</th>\n",
              "      <th>bono_anual</th>\n",
              "    </tr>\n",
              "  </thead>\n",
              "  <tbody>\n",
              "    <tr>\n",
              "      <th>0</th>\n",
              "      <td>José</td>\n",
              "      <td>López</td>\n",
              "      <td>36</td>\n",
              "      <td>Chile</td>\n",
              "      <td>Sí</td>\n",
              "      <td>Mercado Libre</td>\n",
              "      <td>Python Developer</td>\n",
              "      <td>2</td>\n",
              "      <td>$71841</td>\n",
              "      <td>€4981</td>\n",
              "    </tr>\n",
              "    <tr>\n",
              "      <th>1</th>\n",
              "      <td>Fernanda</td>\n",
              "      <td>Vargas</td>\n",
              "      <td>39</td>\n",
              "      <td>Chile</td>\n",
              "      <td>Sí</td>\n",
              "      <td>Amazon</td>\n",
              "      <td>AI Software Engineer</td>\n",
              "      <td>2</td>\n",
              "      <td>$142115</td>\n",
              "      <td>€1252</td>\n",
              "    </tr>\n",
              "    <tr>\n",
              "      <th>2</th>\n",
              "      <td>Fernanda</td>\n",
              "      <td>Ramírez</td>\n",
              "      <td>30</td>\n",
              "      <td>Colombia</td>\n",
              "      <td>No</td>\n",
              "      <td>Facebook</td>\n",
              "      <td>Machine Learning Engineer</td>\n",
              "      <td>2</td>\n",
              "      <td>$92278</td>\n",
              "      <td>€5262</td>\n",
              "    </tr>\n",
              "    <tr>\n",
              "      <th>3</th>\n",
              "      <td>José</td>\n",
              "      <td>Gómez</td>\n",
              "      <td>35</td>\n",
              "      <td>Chile</td>\n",
              "      <td>Sí</td>\n",
              "      <td>Mercado Libre</td>\n",
              "      <td>Python Developer</td>\n",
              "      <td>12</td>\n",
              "      <td>$97130</td>\n",
              "      <td>€3671</td>\n",
              "    </tr>\n",
              "    <tr>\n",
              "      <th>4</th>\n",
              "      <td>Ana</td>\n",
              "      <td>Pérez</td>\n",
              "      <td>32</td>\n",
              "      <td>Panamá</td>\n",
              "      <td>No</td>\n",
              "      <td>Amazon</td>\n",
              "      <td>Project Manager</td>\n",
              "      <td>2</td>\n",
              "      <td>$61413</td>\n",
              "      <td>€10190</td>\n",
              "    </tr>\n",
              "    <tr>\n",
              "      <th>5</th>\n",
              "      <td>Andrea</td>\n",
              "      <td>Torres</td>\n",
              "      <td>45</td>\n",
              "      <td>Costa Rica</td>\n",
              "      <td>No</td>\n",
              "      <td>Mercado Libre</td>\n",
              "      <td>Data Engineer</td>\n",
              "      <td>8</td>\n",
              "      <td>$84987</td>\n",
              "      <td>€5493</td>\n",
              "    </tr>\n",
              "    <tr>\n",
              "      <th>6</th>\n",
              "      <td>Andrea</td>\n",
              "      <td>Vargas</td>\n",
              "      <td>58</td>\n",
              "      <td>Chile</td>\n",
              "      <td>No</td>\n",
              "      <td>Mercado Libre</td>\n",
              "      <td>Data Scientist</td>\n",
              "      <td>9</td>\n",
              "      <td>$96936</td>\n",
              "      <td>€4911</td>\n",
              "    </tr>\n",
              "    <tr>\n",
              "      <th>7</th>\n",
              "      <td>Pedro</td>\n",
              "      <td>Herrera</td>\n",
              "      <td>25</td>\n",
              "      <td>México</td>\n",
              "      <td>Sí</td>\n",
              "      <td>Meta</td>\n",
              "      <td>AI Software Engineer</td>\n",
              "      <td>1</td>\n",
              "      <td>$152001</td>\n",
              "      <td>€11801</td>\n",
              "    </tr>\n",
              "    <tr>\n",
              "      <th>8</th>\n",
              "      <td>Juan</td>\n",
              "      <td>Torres</td>\n",
              "      <td>48</td>\n",
              "      <td>Uruguay</td>\n",
              "      <td>Sí</td>\n",
              "      <td>Oracle</td>\n",
              "      <td>Python Developer</td>\n",
              "      <td>9</td>\n",
              "      <td>$97369</td>\n",
              "      <td>€1365</td>\n",
              "    </tr>\n",
              "    <tr>\n",
              "      <th>9</th>\n",
              "      <td>María</td>\n",
              "      <td>Vargas</td>\n",
              "      <td>50</td>\n",
              "      <td>Colombia</td>\n",
              "      <td>No</td>\n",
              "      <td>Oracle</td>\n",
              "      <td>Machine Learning Engineer</td>\n",
              "      <td>13</td>\n",
              "      <td>$105123</td>\n",
              "      <td>€12154</td>\n",
              "    </tr>\n",
              "  </tbody>\n",
              "</table>\n",
              "</div>"
            ],
            "text/plain": [
              "     nombre apellido  edad        pais educacion_universitaria  \\\n",
              "0      José    López    36       Chile                      Sí   \n",
              "1  Fernanda   Vargas    39       Chile                      Sí   \n",
              "2  Fernanda  Ramírez    30    Colombia                      No   \n",
              "3      José    Gómez    35       Chile                      Sí   \n",
              "4       Ana    Pérez    32      Panamá                      No   \n",
              "5    Andrea   Torres    45  Costa Rica                      No   \n",
              "6    Andrea   Vargas    58       Chile                      No   \n",
              "7     Pedro  Herrera    25      México                      Sí   \n",
              "8      Juan   Torres    48     Uruguay                      Sí   \n",
              "9     María   Vargas    50    Colombia                      No   \n",
              "\n",
              "  nombre_de_la_empresa                      cargo  anos_en_la_empresa  \\\n",
              "0        Mercado Libre           Python Developer                   2   \n",
              "1               Amazon       AI Software Engineer                   2   \n",
              "2             Facebook  Machine Learning Engineer                   2   \n",
              "3        Mercado Libre           Python Developer                  12   \n",
              "4               Amazon            Project Manager                   2   \n",
              "5        Mercado Libre              Data Engineer                   8   \n",
              "6        Mercado Libre             Data Scientist                   9   \n",
              "7                 Meta       AI Software Engineer                   1   \n",
              "8               Oracle           Python Developer                   9   \n",
              "9               Oracle  Machine Learning Engineer                  13   \n",
              "\n",
              "  sueldo_anual bono_anual  \n",
              "0       $71841      €4981  \n",
              "1      $142115      €1252  \n",
              "2       $92278      €5262  \n",
              "3       $97130      €3671  \n",
              "4       $61413     €10190  \n",
              "5       $84987      €5493  \n",
              "6       $96936      €4911  \n",
              "7      $152001     €11801  \n",
              "8       $97369      €1365  \n",
              "9      $105123     €12154  "
            ]
          },
          "execution_count": 7,
          "metadata": {},
          "output_type": "execute_result"
        }
      ],
      "source": [
        "df = pd.read_csv('cursos/analisis_datos/data/raw/salarios.csv')\n",
        "df.head(10)"
      ]
    },
    {
      "cell_type": "markdown",
      "id": "dc862023",
      "metadata": {},
      "source": [
        "### Opcion 2) cargando los datos a un dataframe con buenas prácticas"
      ]
    },
    {
      "cell_type": "code",
      "execution_count": 8,
      "id": "d3f66838",
      "metadata": {},
      "outputs": [],
      "source": [
        "df_salarios = pd.read_csv(filepath_or_buffer=path_salarios, sep=',', encoding='utf-8')\n"
      ]
    },
    {
      "cell_type": "code",
      "execution_count": null,
      "id": "8505df57",
      "metadata": {},
      "outputs": [
        {
          "data": {
            "application/vnd.microsoft.datawrangler.viewer.v0+json": {
              "columns": [
                {
                  "name": "index",
                  "rawType": "int64",
                  "type": "integer"
                },
                {
                  "name": "nombre",
                  "rawType": "object",
                  "type": "string"
                },
                {
                  "name": "apellido",
                  "rawType": "object",
                  "type": "string"
                },
                {
                  "name": "edad",
                  "rawType": "int64",
                  "type": "integer"
                },
                {
                  "name": "pais",
                  "rawType": "object",
                  "type": "string"
                },
                {
                  "name": "educacion_universitaria",
                  "rawType": "object",
                  "type": "string"
                },
                {
                  "name": "nombre_de_la_empresa",
                  "rawType": "object",
                  "type": "string"
                },
                {
                  "name": "cargo",
                  "rawType": "object",
                  "type": "string"
                },
                {
                  "name": "anos_en_la_empresa",
                  "rawType": "int64",
                  "type": "integer"
                },
                {
                  "name": "sueldo_anual",
                  "rawType": "object",
                  "type": "string"
                },
                {
                  "name": "bono_anual",
                  "rawType": "object",
                  "type": "string"
                }
              ],
              "ref": "7e1441e0-c81b-4aba-a671-7e2c92eda6af",
              "rows": [
                [
                  "0",
                  "José",
                  "López",
                  "36",
                  "Chile",
                  "Sí",
                  "Mercado Libre",
                  "Python Developer",
                  "2",
                  "$71841",
                  "€4981"
                ],
                [
                  "1",
                  "Fernanda",
                  "Vargas",
                  "39",
                  "Chile",
                  "Sí",
                  "Amazon",
                  "AI Software Engineer",
                  "2",
                  "$142115",
                  "€1252"
                ],
                [
                  "2",
                  "Fernanda",
                  "Ramírez",
                  "30",
                  "Colombia",
                  "No",
                  "Facebook",
                  "Machine Learning Engineer",
                  "2",
                  "$92278",
                  "€5262"
                ],
                [
                  "3",
                  "José",
                  "Gómez",
                  "35",
                  "Chile",
                  "Sí",
                  "Mercado Libre",
                  "Python Developer",
                  "12",
                  "$97130",
                  "€3671"
                ],
                [
                  "4",
                  "Ana",
                  "Pérez",
                  "32",
                  "Panamá",
                  "No",
                  "Amazon",
                  "Project Manager",
                  "2",
                  "$61413",
                  "€10190"
                ],
                [
                  "5",
                  "Andrea",
                  "Torres",
                  "45",
                  "Costa Rica",
                  "No",
                  "Mercado Libre",
                  "Data Engineer",
                  "8",
                  "$84987",
                  "€5493"
                ],
                [
                  "6",
                  "Andrea",
                  "Vargas",
                  "58",
                  "Chile",
                  "No",
                  "Mercado Libre",
                  "Data Scientist",
                  "9",
                  "$96936",
                  "€4911"
                ]
              ],
              "shape": {
                "columns": 10,
                "rows": 7
              }
            },
            "text/html": [
              "<div>\n",
              "<style scoped>\n",
              "    .dataframe tbody tr th:only-of-type {\n",
              "        vertical-align: middle;\n",
              "    }\n",
              "\n",
              "    .dataframe tbody tr th {\n",
              "        vertical-align: top;\n",
              "    }\n",
              "\n",
              "    .dataframe thead th {\n",
              "        text-align: right;\n",
              "    }\n",
              "</style>\n",
              "<table border=\"1\" class=\"dataframe\">\n",
              "  <thead>\n",
              "    <tr style=\"text-align: right;\">\n",
              "      <th></th>\n",
              "      <th>nombre</th>\n",
              "      <th>apellido</th>\n",
              "      <th>edad</th>\n",
              "      <th>pais</th>\n",
              "      <th>educacion_universitaria</th>\n",
              "      <th>nombre_de_la_empresa</th>\n",
              "      <th>cargo</th>\n",
              "      <th>anos_en_la_empresa</th>\n",
              "      <th>sueldo_anual</th>\n",
              "      <th>bono_anual</th>\n",
              "    </tr>\n",
              "  </thead>\n",
              "  <tbody>\n",
              "    <tr>\n",
              "      <th>0</th>\n",
              "      <td>José</td>\n",
              "      <td>López</td>\n",
              "      <td>36</td>\n",
              "      <td>Chile</td>\n",
              "      <td>Sí</td>\n",
              "      <td>Mercado Libre</td>\n",
              "      <td>Python Developer</td>\n",
              "      <td>2</td>\n",
              "      <td>$71841</td>\n",
              "      <td>€4981</td>\n",
              "    </tr>\n",
              "    <tr>\n",
              "      <th>1</th>\n",
              "      <td>Fernanda</td>\n",
              "      <td>Vargas</td>\n",
              "      <td>39</td>\n",
              "      <td>Chile</td>\n",
              "      <td>Sí</td>\n",
              "      <td>Amazon</td>\n",
              "      <td>AI Software Engineer</td>\n",
              "      <td>2</td>\n",
              "      <td>$142115</td>\n",
              "      <td>€1252</td>\n",
              "    </tr>\n",
              "    <tr>\n",
              "      <th>2</th>\n",
              "      <td>Fernanda</td>\n",
              "      <td>Ramírez</td>\n",
              "      <td>30</td>\n",
              "      <td>Colombia</td>\n",
              "      <td>No</td>\n",
              "      <td>Facebook</td>\n",
              "      <td>Machine Learning Engineer</td>\n",
              "      <td>2</td>\n",
              "      <td>$92278</td>\n",
              "      <td>€5262</td>\n",
              "    </tr>\n",
              "    <tr>\n",
              "      <th>3</th>\n",
              "      <td>José</td>\n",
              "      <td>Gómez</td>\n",
              "      <td>35</td>\n",
              "      <td>Chile</td>\n",
              "      <td>Sí</td>\n",
              "      <td>Mercado Libre</td>\n",
              "      <td>Python Developer</td>\n",
              "      <td>12</td>\n",
              "      <td>$97130</td>\n",
              "      <td>€3671</td>\n",
              "    </tr>\n",
              "    <tr>\n",
              "      <th>4</th>\n",
              "      <td>Ana</td>\n",
              "      <td>Pérez</td>\n",
              "      <td>32</td>\n",
              "      <td>Panamá</td>\n",
              "      <td>No</td>\n",
              "      <td>Amazon</td>\n",
              "      <td>Project Manager</td>\n",
              "      <td>2</td>\n",
              "      <td>$61413</td>\n",
              "      <td>€10190</td>\n",
              "    </tr>\n",
              "    <tr>\n",
              "      <th>5</th>\n",
              "      <td>Andrea</td>\n",
              "      <td>Torres</td>\n",
              "      <td>45</td>\n",
              "      <td>Costa Rica</td>\n",
              "      <td>No</td>\n",
              "      <td>Mercado Libre</td>\n",
              "      <td>Data Engineer</td>\n",
              "      <td>8</td>\n",
              "      <td>$84987</td>\n",
              "      <td>€5493</td>\n",
              "    </tr>\n",
              "    <tr>\n",
              "      <th>6</th>\n",
              "      <td>Andrea</td>\n",
              "      <td>Vargas</td>\n",
              "      <td>58</td>\n",
              "      <td>Chile</td>\n",
              "      <td>No</td>\n",
              "      <td>Mercado Libre</td>\n",
              "      <td>Data Scientist</td>\n",
              "      <td>9</td>\n",
              "      <td>$96936</td>\n",
              "      <td>€4911</td>\n",
              "    </tr>\n",
              "  </tbody>\n",
              "</table>\n",
              "</div>"
            ],
            "text/plain": [
              "     nombre apellido  edad        pais educacion_universitaria  \\\n",
              "0      José    López    36       Chile                      Sí   \n",
              "1  Fernanda   Vargas    39       Chile                      Sí   \n",
              "2  Fernanda  Ramírez    30    Colombia                      No   \n",
              "3      José    Gómez    35       Chile                      Sí   \n",
              "4       Ana    Pérez    32      Panamá                      No   \n",
              "5    Andrea   Torres    45  Costa Rica                      No   \n",
              "6    Andrea   Vargas    58       Chile                      No   \n",
              "\n",
              "  nombre_de_la_empresa                      cargo  anos_en_la_empresa  \\\n",
              "0        Mercado Libre           Python Developer                   2   \n",
              "1               Amazon       AI Software Engineer                   2   \n",
              "2             Facebook  Machine Learning Engineer                   2   \n",
              "3        Mercado Libre           Python Developer                  12   \n",
              "4               Amazon            Project Manager                   2   \n",
              "5        Mercado Libre              Data Engineer                   8   \n",
              "6        Mercado Libre             Data Scientist                   9   \n",
              "\n",
              "  sueldo_anual bono_anual  \n",
              "0       $71841      €4981  \n",
              "1      $142115      €1252  \n",
              "2       $92278      €5262  \n",
              "3       $97130      €3671  \n",
              "4       $61413     €10190  \n",
              "5       $84987      €5493  \n",
              "6       $96936      €4911  "
            ]
          },
          "execution_count": 9,
          "metadata": {},
          "output_type": "execute_result"
        }
      ],
      "source": [
        "df_salarios.head(7)"
      ]
    },
    {
      "cell_type": "code",
      "execution_count": 10,
      "id": "3e71aed2",
      "metadata": {},
      "outputs": [
        {
          "data": {
            "application/vnd.microsoft.datawrangler.viewer.v0+json": {
              "columns": [
                {
                  "name": "index",
                  "rawType": "int64",
                  "type": "integer"
                },
                {
                  "name": "nombre",
                  "rawType": "object",
                  "type": "string"
                },
                {
                  "name": "apellido",
                  "rawType": "object",
                  "type": "string"
                },
                {
                  "name": "edad",
                  "rawType": "int64",
                  "type": "integer"
                },
                {
                  "name": "pais",
                  "rawType": "object",
                  "type": "string"
                },
                {
                  "name": "educacion_universitaria",
                  "rawType": "object",
                  "type": "string"
                },
                {
                  "name": "nombre_de_la_empresa",
                  "rawType": "object",
                  "type": "unknown"
                },
                {
                  "name": "cargo",
                  "rawType": "object",
                  "type": "string"
                },
                {
                  "name": "anos_en_la_empresa",
                  "rawType": "int64",
                  "type": "integer"
                },
                {
                  "name": "sueldo_anual",
                  "rawType": "object",
                  "type": "string"
                },
                {
                  "name": "bono_anual",
                  "rawType": "object",
                  "type": "string"
                }
              ],
              "ref": "a4934e5b-3df0-40cc-938f-cfee2caebcb8",
              "rows": [
                [
                  "318",
                  "Lucía",
                  "González",
                  "56",
                  "Uruguay",
                  "No",
                  null,
                  "Data Scientist",
                  "7",
                  "$96078",
                  "€11419"
                ],
                [
                  "319",
                  "Luis",
                  "Ramírez",
                  "60",
                  "Argentina",
                  "No",
                  "Google",
                  "Data Scientist",
                  "4",
                  "$72011",
                  "€6723"
                ],
                [
                  "320",
                  "José",
                  "Martínez",
                  "35",
                  "Chile",
                  "Sí",
                  "Globant",
                  "Data Engineer",
                  "3",
                  "$97114",
                  "€1684"
                ],
                [
                  "321",
                  "Carlos",
                  "Flores",
                  "55",
                  "Uruguay",
                  "Sí",
                  "Globant",
                  "Machine Learning Engineer",
                  "1",
                  "$104541",
                  "€3128"
                ],
                [
                  "322",
                  "Lucía",
                  "Torres",
                  "36",
                  "Costa Rica",
                  "No",
                  "Oracle",
                  "Software Engineer",
                  "0",
                  "$86042",
                  "€8746"
                ],
                [
                  "323",
                  "Lucía",
                  "González",
                  "56",
                  "Uruguay",
                  "No",
                  "Nubank",
                  "Data Scientist",
                  "7",
                  "$96078",
                  "€11419"
                ],
                [
                  "324",
                  "Andrea",
                  "Pérez",
                  "26",
                  "Perú",
                  "Sí",
                  "Meta",
                  "Data Engineer",
                  "11",
                  "$93115",
                  "€3426"
                ]
              ],
              "shape": {
                "columns": 10,
                "rows": 7
              }
            },
            "text/html": [
              "<div>\n",
              "<style scoped>\n",
              "    .dataframe tbody tr th:only-of-type {\n",
              "        vertical-align: middle;\n",
              "    }\n",
              "\n",
              "    .dataframe tbody tr th {\n",
              "        vertical-align: top;\n",
              "    }\n",
              "\n",
              "    .dataframe thead th {\n",
              "        text-align: right;\n",
              "    }\n",
              "</style>\n",
              "<table border=\"1\" class=\"dataframe\">\n",
              "  <thead>\n",
              "    <tr style=\"text-align: right;\">\n",
              "      <th></th>\n",
              "      <th>nombre</th>\n",
              "      <th>apellido</th>\n",
              "      <th>edad</th>\n",
              "      <th>pais</th>\n",
              "      <th>educacion_universitaria</th>\n",
              "      <th>nombre_de_la_empresa</th>\n",
              "      <th>cargo</th>\n",
              "      <th>anos_en_la_empresa</th>\n",
              "      <th>sueldo_anual</th>\n",
              "      <th>bono_anual</th>\n",
              "    </tr>\n",
              "  </thead>\n",
              "  <tbody>\n",
              "    <tr>\n",
              "      <th>318</th>\n",
              "      <td>Lucía</td>\n",
              "      <td>González</td>\n",
              "      <td>56</td>\n",
              "      <td>Uruguay</td>\n",
              "      <td>No</td>\n",
              "      <td>NaN</td>\n",
              "      <td>Data Scientist</td>\n",
              "      <td>7</td>\n",
              "      <td>$96078</td>\n",
              "      <td>€11419</td>\n",
              "    </tr>\n",
              "    <tr>\n",
              "      <th>319</th>\n",
              "      <td>Luis</td>\n",
              "      <td>Ramírez</td>\n",
              "      <td>60</td>\n",
              "      <td>Argentina</td>\n",
              "      <td>No</td>\n",
              "      <td>Google</td>\n",
              "      <td>Data Scientist</td>\n",
              "      <td>4</td>\n",
              "      <td>$72011</td>\n",
              "      <td>€6723</td>\n",
              "    </tr>\n",
              "    <tr>\n",
              "      <th>320</th>\n",
              "      <td>José</td>\n",
              "      <td>Martínez</td>\n",
              "      <td>35</td>\n",
              "      <td>Chile</td>\n",
              "      <td>Sí</td>\n",
              "      <td>Globant</td>\n",
              "      <td>Data Engineer</td>\n",
              "      <td>3</td>\n",
              "      <td>$97114</td>\n",
              "      <td>€1684</td>\n",
              "    </tr>\n",
              "    <tr>\n",
              "      <th>321</th>\n",
              "      <td>Carlos</td>\n",
              "      <td>Flores</td>\n",
              "      <td>55</td>\n",
              "      <td>Uruguay</td>\n",
              "      <td>Sí</td>\n",
              "      <td>Globant</td>\n",
              "      <td>Machine Learning Engineer</td>\n",
              "      <td>1</td>\n",
              "      <td>$104541</td>\n",
              "      <td>€3128</td>\n",
              "    </tr>\n",
              "    <tr>\n",
              "      <th>322</th>\n",
              "      <td>Lucía</td>\n",
              "      <td>Torres</td>\n",
              "      <td>36</td>\n",
              "      <td>Costa Rica</td>\n",
              "      <td>No</td>\n",
              "      <td>Oracle</td>\n",
              "      <td>Software Engineer</td>\n",
              "      <td>0</td>\n",
              "      <td>$86042</td>\n",
              "      <td>€8746</td>\n",
              "    </tr>\n",
              "    <tr>\n",
              "      <th>323</th>\n",
              "      <td>Lucía</td>\n",
              "      <td>González</td>\n",
              "      <td>56</td>\n",
              "      <td>Uruguay</td>\n",
              "      <td>No</td>\n",
              "      <td>Nubank</td>\n",
              "      <td>Data Scientist</td>\n",
              "      <td>7</td>\n",
              "      <td>$96078</td>\n",
              "      <td>€11419</td>\n",
              "    </tr>\n",
              "    <tr>\n",
              "      <th>324</th>\n",
              "      <td>Andrea</td>\n",
              "      <td>Pérez</td>\n",
              "      <td>26</td>\n",
              "      <td>Perú</td>\n",
              "      <td>Sí</td>\n",
              "      <td>Meta</td>\n",
              "      <td>Data Engineer</td>\n",
              "      <td>11</td>\n",
              "      <td>$93115</td>\n",
              "      <td>€3426</td>\n",
              "    </tr>\n",
              "  </tbody>\n",
              "</table>\n",
              "</div>"
            ],
            "text/plain": [
              "     nombre  apellido  edad        pais educacion_universitaria  \\\n",
              "318   Lucía  González    56     Uruguay                      No   \n",
              "319    Luis   Ramírez    60   Argentina                      No   \n",
              "320    José  Martínez    35       Chile                      Sí   \n",
              "321  Carlos    Flores    55     Uruguay                      Sí   \n",
              "322   Lucía    Torres    36  Costa Rica                      No   \n",
              "323   Lucía  González    56     Uruguay                      No   \n",
              "324  Andrea     Pérez    26        Perú                      Sí   \n",
              "\n",
              "    nombre_de_la_empresa                      cargo  anos_en_la_empresa  \\\n",
              "318                  NaN             Data Scientist                   7   \n",
              "319               Google             Data Scientist                   4   \n",
              "320              Globant              Data Engineer                   3   \n",
              "321              Globant  Machine Learning Engineer                   1   \n",
              "322               Oracle          Software Engineer                   0   \n",
              "323               Nubank             Data Scientist                   7   \n",
              "324                 Meta              Data Engineer                  11   \n",
              "\n",
              "    sueldo_anual bono_anual  \n",
              "318       $96078     €11419  \n",
              "319       $72011      €6723  \n",
              "320       $97114      €1684  \n",
              "321      $104541      €3128  \n",
              "322       $86042      €8746  \n",
              "323       $96078     €11419  \n",
              "324       $93115      €3426  "
            ]
          },
          "execution_count": 10,
          "metadata": {},
          "output_type": "execute_result"
        }
      ],
      "source": [
        "df_salarios.tail(7)"
      ]
    },
    {
      "cell_type": "code",
      "execution_count": 11,
      "id": "b50a0d4e",
      "metadata": {},
      "outputs": [
        {
          "data": {
            "application/vnd.microsoft.datawrangler.viewer.v0+json": {
              "columns": [
                {
                  "name": "index",
                  "rawType": "int64",
                  "type": "integer"
                },
                {
                  "name": "nombre",
                  "rawType": "object",
                  "type": "string"
                },
                {
                  "name": "apellido",
                  "rawType": "object",
                  "type": "string"
                },
                {
                  "name": "edad",
                  "rawType": "int64",
                  "type": "integer"
                },
                {
                  "name": "pais",
                  "rawType": "object",
                  "type": "string"
                },
                {
                  "name": "educacion_universitaria",
                  "rawType": "object",
                  "type": "string"
                },
                {
                  "name": "nombre_de_la_empresa",
                  "rawType": "object",
                  "type": "string"
                },
                {
                  "name": "cargo",
                  "rawType": "object",
                  "type": "string"
                },
                {
                  "name": "anos_en_la_empresa",
                  "rawType": "int64",
                  "type": "integer"
                },
                {
                  "name": "sueldo_anual",
                  "rawType": "object",
                  "type": "string"
                },
                {
                  "name": "bono_anual",
                  "rawType": "object",
                  "type": "string"
                }
              ],
              "ref": "a2bcd20d-937e-414c-9ac1-de2750f72dc9",
              "rows": [
                [
                  "266",
                  "José",
                  "Martínez",
                  "35",
                  "Chile",
                  "Sí",
                  "Globant",
                  "Data Engineer",
                  "3",
                  "$97114",
                  "€1684"
                ],
                [
                  "218",
                  "Camila",
                  "Rodríguez",
                  "23",
                  "Perú",
                  "No",
                  "Mercado Libre",
                  "Project Manager",
                  "4",
                  "$57666",
                  "€9761"
                ],
                [
                  "102",
                  "Camila",
                  "Gómez",
                  "50",
                  "México",
                  "Sí",
                  "Rappi",
                  "Data Analyst",
                  "9",
                  "$68765",
                  "€1204"
                ],
                [
                  "113",
                  "Fernanda",
                  "Rodríguez",
                  "50",
                  "Uruguay",
                  "No",
                  "Microsoft",
                  "Data Engineer",
                  "7",
                  "$103214",
                  "€7056"
                ],
                [
                  "48",
                  "Diego",
                  "Flores",
                  "50",
                  "Uruguay",
                  "No",
                  "Google",
                  "Software Engineer",
                  "3",
                  "$107042",
                  "€1575"
                ]
              ],
              "shape": {
                "columns": 10,
                "rows": 5
              }
            },
            "text/html": [
              "<div>\n",
              "<style scoped>\n",
              "    .dataframe tbody tr th:only-of-type {\n",
              "        vertical-align: middle;\n",
              "    }\n",
              "\n",
              "    .dataframe tbody tr th {\n",
              "        vertical-align: top;\n",
              "    }\n",
              "\n",
              "    .dataframe thead th {\n",
              "        text-align: right;\n",
              "    }\n",
              "</style>\n",
              "<table border=\"1\" class=\"dataframe\">\n",
              "  <thead>\n",
              "    <tr style=\"text-align: right;\">\n",
              "      <th></th>\n",
              "      <th>nombre</th>\n",
              "      <th>apellido</th>\n",
              "      <th>edad</th>\n",
              "      <th>pais</th>\n",
              "      <th>educacion_universitaria</th>\n",
              "      <th>nombre_de_la_empresa</th>\n",
              "      <th>cargo</th>\n",
              "      <th>anos_en_la_empresa</th>\n",
              "      <th>sueldo_anual</th>\n",
              "      <th>bono_anual</th>\n",
              "    </tr>\n",
              "  </thead>\n",
              "  <tbody>\n",
              "    <tr>\n",
              "      <th>266</th>\n",
              "      <td>José</td>\n",
              "      <td>Martínez</td>\n",
              "      <td>35</td>\n",
              "      <td>Chile</td>\n",
              "      <td>Sí</td>\n",
              "      <td>Globant</td>\n",
              "      <td>Data Engineer</td>\n",
              "      <td>3</td>\n",
              "      <td>$97114</td>\n",
              "      <td>€1684</td>\n",
              "    </tr>\n",
              "    <tr>\n",
              "      <th>218</th>\n",
              "      <td>Camila</td>\n",
              "      <td>Rodríguez</td>\n",
              "      <td>23</td>\n",
              "      <td>Perú</td>\n",
              "      <td>No</td>\n",
              "      <td>Mercado Libre</td>\n",
              "      <td>Project Manager</td>\n",
              "      <td>4</td>\n",
              "      <td>$57666</td>\n",
              "      <td>€9761</td>\n",
              "    </tr>\n",
              "    <tr>\n",
              "      <th>102</th>\n",
              "      <td>Camila</td>\n",
              "      <td>Gómez</td>\n",
              "      <td>50</td>\n",
              "      <td>México</td>\n",
              "      <td>Sí</td>\n",
              "      <td>Rappi</td>\n",
              "      <td>Data Analyst</td>\n",
              "      <td>9</td>\n",
              "      <td>$68765</td>\n",
              "      <td>€1204</td>\n",
              "    </tr>\n",
              "    <tr>\n",
              "      <th>113</th>\n",
              "      <td>Fernanda</td>\n",
              "      <td>Rodríguez</td>\n",
              "      <td>50</td>\n",
              "      <td>Uruguay</td>\n",
              "      <td>No</td>\n",
              "      <td>Microsoft</td>\n",
              "      <td>Data Engineer</td>\n",
              "      <td>7</td>\n",
              "      <td>$103214</td>\n",
              "      <td>€7056</td>\n",
              "    </tr>\n",
              "    <tr>\n",
              "      <th>48</th>\n",
              "      <td>Diego</td>\n",
              "      <td>Flores</td>\n",
              "      <td>50</td>\n",
              "      <td>Uruguay</td>\n",
              "      <td>No</td>\n",
              "      <td>Google</td>\n",
              "      <td>Software Engineer</td>\n",
              "      <td>3</td>\n",
              "      <td>$107042</td>\n",
              "      <td>€1575</td>\n",
              "    </tr>\n",
              "  </tbody>\n",
              "</table>\n",
              "</div>"
            ],
            "text/plain": [
              "       nombre   apellido  edad     pais educacion_universitaria  \\\n",
              "266      José   Martínez    35    Chile                      Sí   \n",
              "218    Camila  Rodríguez    23     Perú                      No   \n",
              "102    Camila      Gómez    50   México                      Sí   \n",
              "113  Fernanda  Rodríguez    50  Uruguay                      No   \n",
              "48      Diego     Flores    50  Uruguay                      No   \n",
              "\n",
              "    nombre_de_la_empresa              cargo  anos_en_la_empresa sueldo_anual  \\\n",
              "266              Globant      Data Engineer                   3       $97114   \n",
              "218        Mercado Libre    Project Manager                   4       $57666   \n",
              "102                Rappi       Data Analyst                   9       $68765   \n",
              "113            Microsoft      Data Engineer                   7      $103214   \n",
              "48                Google  Software Engineer                   3      $107042   \n",
              "\n",
              "    bono_anual  \n",
              "266      €1684  \n",
              "218      €9761  \n",
              "102      €1204  \n",
              "113      €7056  \n",
              "48       €1575  "
            ]
          },
          "execution_count": 11,
          "metadata": {},
          "output_type": "execute_result"
        }
      ],
      "source": [
        "df_salarios.sample(5)"
      ]
    },
    {
      "cell_type": "markdown",
      "metadata": {},
      "source": [
        "## 6. Exploración inicial del dataset\n",
        "\n",
        "Veamos el tipo de datos, columnas, y valores nulos."
      ]
    },
    {
      "cell_type": "code",
      "execution_count": 12,
      "metadata": {},
      "outputs": [
        {
          "name": "stdout",
          "output_type": "stream",
          "text": [
            "<class 'pandas.core.frame.DataFrame'>\n",
            "RangeIndex: 325 entries, 0 to 324\n",
            "Data columns (total 10 columns):\n",
            " #   Column                   Non-Null Count  Dtype \n",
            "---  ------                   --------------  ----- \n",
            " 0   nombre                   325 non-null    object\n",
            " 1   apellido                 325 non-null    object\n",
            " 2   edad                     325 non-null    int64 \n",
            " 3   pais                     324 non-null    object\n",
            " 4   educacion_universitaria  325 non-null    object\n",
            " 5   nombre_de_la_empresa     317 non-null    object\n",
            " 6   cargo                    325 non-null    object\n",
            " 7   anos_en_la_empresa       325 non-null    int64 \n",
            " 8   sueldo_anual             325 non-null    object\n",
            " 9   bono_anual               325 non-null    object\n",
            "dtypes: int64(2), object(8)\n",
            "memory usage: 25.5+ KB\n"
          ]
        }
      ],
      "source": [
        "df_salarios.info()"
      ]
    },
    {
      "cell_type": "code",
      "execution_count": 13,
      "metadata": {},
      "outputs": [
        {
          "data": {
            "application/vnd.microsoft.datawrangler.viewer.v0+json": {
              "columns": [
                {
                  "name": "index",
                  "rawType": "object",
                  "type": "string"
                },
                {
                  "name": "edad",
                  "rawType": "float64",
                  "type": "float"
                },
                {
                  "name": "anos_en_la_empresa",
                  "rawType": "float64",
                  "type": "float"
                }
              ],
              "ref": "2187c2fa-b82a-474a-915e-6d47e8f9b1e9",
              "rows": [
                [
                  "count",
                  "325.0",
                  "325.0"
                ],
                [
                  "mean",
                  "40.88923076923077",
                  "6.3538461538461535"
                ],
                [
                  "std",
                  "11.582768745592093",
                  "3.997803290445618"
                ],
                [
                  "min",
                  "22.0",
                  "0.0"
                ],
                [
                  "25%",
                  "30.0",
                  "3.0"
                ],
                [
                  "50%",
                  "41.0",
                  "6.0"
                ],
                [
                  "75%",
                  "51.0",
                  "10.0"
                ],
                [
                  "max",
                  "60.0",
                  "13.0"
                ]
              ],
              "shape": {
                "columns": 2,
                "rows": 8
              }
            },
            "text/html": [
              "<div>\n",
              "<style scoped>\n",
              "    .dataframe tbody tr th:only-of-type {\n",
              "        vertical-align: middle;\n",
              "    }\n",
              "\n",
              "    .dataframe tbody tr th {\n",
              "        vertical-align: top;\n",
              "    }\n",
              "\n",
              "    .dataframe thead th {\n",
              "        text-align: right;\n",
              "    }\n",
              "</style>\n",
              "<table border=\"1\" class=\"dataframe\">\n",
              "  <thead>\n",
              "    <tr style=\"text-align: right;\">\n",
              "      <th></th>\n",
              "      <th>edad</th>\n",
              "      <th>anos_en_la_empresa</th>\n",
              "    </tr>\n",
              "  </thead>\n",
              "  <tbody>\n",
              "    <tr>\n",
              "      <th>count</th>\n",
              "      <td>325.000000</td>\n",
              "      <td>325.000000</td>\n",
              "    </tr>\n",
              "    <tr>\n",
              "      <th>mean</th>\n",
              "      <td>40.889231</td>\n",
              "      <td>6.353846</td>\n",
              "    </tr>\n",
              "    <tr>\n",
              "      <th>std</th>\n",
              "      <td>11.582769</td>\n",
              "      <td>3.997803</td>\n",
              "    </tr>\n",
              "    <tr>\n",
              "      <th>min</th>\n",
              "      <td>22.000000</td>\n",
              "      <td>0.000000</td>\n",
              "    </tr>\n",
              "    <tr>\n",
              "      <th>25%</th>\n",
              "      <td>30.000000</td>\n",
              "      <td>3.000000</td>\n",
              "    </tr>\n",
              "    <tr>\n",
              "      <th>50%</th>\n",
              "      <td>41.000000</td>\n",
              "      <td>6.000000</td>\n",
              "    </tr>\n",
              "    <tr>\n",
              "      <th>75%</th>\n",
              "      <td>51.000000</td>\n",
              "      <td>10.000000</td>\n",
              "    </tr>\n",
              "    <tr>\n",
              "      <th>max</th>\n",
              "      <td>60.000000</td>\n",
              "      <td>13.000000</td>\n",
              "    </tr>\n",
              "  </tbody>\n",
              "</table>\n",
              "</div>"
            ],
            "text/plain": [
              "             edad  anos_en_la_empresa\n",
              "count  325.000000          325.000000\n",
              "mean    40.889231            6.353846\n",
              "std     11.582769            3.997803\n",
              "min     22.000000            0.000000\n",
              "25%     30.000000            3.000000\n",
              "50%     41.000000            6.000000\n",
              "75%     51.000000           10.000000\n",
              "max     60.000000           13.000000"
            ]
          },
          "execution_count": 13,
          "metadata": {},
          "output_type": "execute_result"
        }
      ],
      "source": [
        "df_salarios.describe()"
      ]
    },
    {
      "cell_type": "code",
      "execution_count": 14,
      "metadata": {},
      "outputs": [
        {
          "data": {
            "application/vnd.microsoft.datawrangler.viewer.v0+json": {
              "columns": [
                {
                  "name": "index",
                  "rawType": "object",
                  "type": "string"
                },
                {
                  "name": "0",
                  "rawType": "int64",
                  "type": "integer"
                }
              ],
              "ref": "ecef44a6-2975-484e-956f-07fd26ee5229",
              "rows": [
                [
                  "nombre",
                  "0"
                ],
                [
                  "apellido",
                  "0"
                ],
                [
                  "edad",
                  "0"
                ],
                [
                  "pais",
                  "1"
                ],
                [
                  "educacion_universitaria",
                  "0"
                ],
                [
                  "nombre_de_la_empresa",
                  "8"
                ],
                [
                  "cargo",
                  "0"
                ],
                [
                  "anos_en_la_empresa",
                  "0"
                ],
                [
                  "sueldo_anual",
                  "0"
                ],
                [
                  "bono_anual",
                  "0"
                ]
              ],
              "shape": {
                "columns": 1,
                "rows": 10
              }
            },
            "text/plain": [
              "nombre                     0\n",
              "apellido                   0\n",
              "edad                       0\n",
              "pais                       1\n",
              "educacion_universitaria    0\n",
              "nombre_de_la_empresa       8\n",
              "cargo                      0\n",
              "anos_en_la_empresa         0\n",
              "sueldo_anual               0\n",
              "bono_anual                 0\n",
              "dtype: int64"
            ]
          },
          "execution_count": 14,
          "metadata": {},
          "output_type": "execute_result"
        }
      ],
      "source": [
        "df_salarios.isnull().sum()"
      ]
    },
    {
      "cell_type": "code",
      "execution_count": null,
      "id": "9cb6a927",
      "metadata": {},
      "outputs": [],
      "source": []
    }
  ],
  "metadata": {
    "kernelspec": {
      "display_name": "pyda-py312",
      "language": "python",
      "name": "python3"
    },
    "language_info": {
      "codemirror_mode": {
        "name": "ipython",
        "version": 3
      },
      "file_extension": ".py",
      "mimetype": "text/x-python",
      "name": "python",
      "nbconvert_exporter": "python",
      "pygments_lexer": "ipython3",
      "version": "3.12.11"
    }
  },
  "nbformat": 4,
  "nbformat_minor": 5
}
